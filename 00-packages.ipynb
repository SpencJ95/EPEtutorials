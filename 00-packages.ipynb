{
 "cells": [
  {
   "cell_type": "markdown",
   "metadata": {},
   "source": [
    "# Packages\n",
    "At this point, you should have already installed several packages. Here is a rundown of what they do:\n",
    "## Python\n",
    "Python3 is the main programming language we will be using in this tutorial. It is a [dynamic](https://en.wikipedia.org/wiki/Dynamic_programming_language), [interpreted](https://en.wikipedia.org/wiki/Interpreted_language), and [high-level](https://en.wikipedia.org/wiki/High-level_programming_language) programming language."
   ]
  },
  {
   "cell_type": "code",
   "execution_count": null,
   "metadata": {},
   "outputs": [],
   "source": []
  }
 ],
 "metadata": {
  "kernelspec": {
   "display_name": "Python 3",
   "language": "python",
   "name": "python3"
  },
  "language_info": {
   "codemirror_mode": {
    "name": "ipython",
    "version": 3
   },
   "file_extension": ".py",
   "mimetype": "text/x-python",
   "name": "python",
   "nbconvert_exporter": "python",
   "pygments_lexer": "ipython3",
   "version": "3.7.4"
  }
 },
 "nbformat": 4,
 "nbformat_minor": 2
}
